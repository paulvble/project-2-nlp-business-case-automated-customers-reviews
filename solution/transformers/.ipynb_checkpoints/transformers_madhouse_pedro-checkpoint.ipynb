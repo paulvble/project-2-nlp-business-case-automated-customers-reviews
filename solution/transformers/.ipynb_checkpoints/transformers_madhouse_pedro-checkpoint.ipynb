{
 "cells": [
  {
   "cell_type": "code",
   "execution_count": 2,
   "id": "0a2fb5ef-7a25-4da1-8ee6-6911687a2b68",
   "metadata": {},
   "outputs": [
    {
     "ename": "FileNotFoundError",
     "evalue": "The file at C:\\Users\\Pedro\\Documents\\Ironhack\\SixthWeek\\data\\data.csv does not exist.",
     "output_type": "error",
     "traceback": [
      "\u001b[1;31m---------------------------------------------------------------------------\u001b[0m",
      "\u001b[1;31mFileNotFoundError\u001b[0m                         Traceback (most recent call last)",
      "Cell \u001b[1;32mIn[2], line 11\u001b[0m\n\u001b[0;32m      8\u001b[0m data_path \u001b[38;5;241m=\u001b[39m (current_dir \u001b[38;5;241m/\u001b[39m \u001b[38;5;124m'\u001b[39m\u001b[38;5;124m..\u001b[39m\u001b[38;5;124m'\u001b[39m \u001b[38;5;241m/\u001b[39m \u001b[38;5;124m'\u001b[39m\u001b[38;5;124mdata\u001b[39m\u001b[38;5;124m'\u001b[39m \u001b[38;5;241m/\u001b[39m \u001b[38;5;124m'\u001b[39m\u001b[38;5;124mdata.csv\u001b[39m\u001b[38;5;124m'\u001b[39m)\u001b[38;5;241m.\u001b[39mresolve()\n\u001b[0;32m     10\u001b[0m \u001b[38;5;28;01mif\u001b[39;00m \u001b[38;5;129;01mnot\u001b[39;00m data_path\u001b[38;5;241m.\u001b[39mexists():\n\u001b[1;32m---> 11\u001b[0m     \u001b[38;5;28;01mraise\u001b[39;00m \u001b[38;5;167;01mFileNotFoundError\u001b[39;00m(\u001b[38;5;124mf\u001b[39m\u001b[38;5;124m\"\u001b[39m\u001b[38;5;124mThe file at \u001b[39m\u001b[38;5;132;01m{\u001b[39;00mdata_path\u001b[38;5;132;01m}\u001b[39;00m\u001b[38;5;124m does not exist.\u001b[39m\u001b[38;5;124m\"\u001b[39m)\n\u001b[0;32m     13\u001b[0m data \u001b[38;5;241m=\u001b[39m pd\u001b[38;5;241m.\u001b[39mread_csv(data_path)\n\u001b[0;32m     15\u001b[0m \u001b[38;5;66;03m# Select relevant columns\u001b[39;00m\n",
      "\u001b[1;31mFileNotFoundError\u001b[0m: The file at C:\\Users\\Pedro\\Documents\\Ironhack\\SixthWeek\\data\\data.csv does not exist."
     ]
    }
   ],
   "source": [
    "import pandas as pd\n",
    "from pathlib import Path\n",
    "import torch\n",
    "from transformers import AutoTokenizer, LEDForConditionalGeneration\n",
    "\n",
    "# Load the dataset\n",
    "current_dir = Path.cwd()\n",
    "data_path = (current_dir / '..' / 'data' / 'data.csv').resolve()\n",
    "\n",
    "if not data_path.exists():\n",
    "    raise FileNotFoundError(f\"The file at {data_path} does not exist.\")\n",
    "\n",
    "data = pd.read_csv(data_path)\n",
    "\n",
    "# Select relevant columns\n",
    "data = data[[\"primaryCategories\", \"reviews.text\", \"reviews.rating\"]]\n",
    "\n",
    "# Drop rows with missing values in the specified columns (if any)\n",
    "data.dropna(subset=['primaryCategories', 'reviews.text', 'reviews.rating'], inplace=True)\n",
    "\n",
    "# Convert ratings to string to ensure consistent grouping\n",
    "data['reviews.rating'] = data['reviews.rating'].astype(str)\n",
    "\n",
    "# Group reviews by primary category and star rating and concatenate all reviews within each group\n",
    "grouped_reviews = data.groupby(['primaryCategories', 'reviews.rating'])['reviews.text'].apply(lambda x: ' '.join(x)).reset_index()\n",
    "\n",
    "# Load model and tokenizer\n",
    "tokenizer = AutoTokenizer.from_pretrained(\"allenai/led-base-16384\")\n",
    "model = LEDForConditionalGeneration.from_pretrained(\"allenai/led-base-16384\")\n",
    "\n",
    "# Check if GPU is available and use it\n",
    "device = 'cuda' if torch.cuda.is_available() else 'cpu'\n",
    "model.to(device)\n",
    "print(device)\n",
    "\n",
    "# Function to summarize text, handling long texts by chunking\n",
    "def summarize_text(text, max_chunk_length=4096, summary_max_length=150, summary_min_length=30):\n",
    "    # Split the text into chunks that fit within the model's maximum input length\n",
    "    inputs = tokenizer(text, return_tensors='pt', truncation=True, max_length=max_chunk_length)\n",
    "    chunks = []\n",
    "    chunk_size = max_chunk_length\n",
    "    for i in range(0, len(text), chunk_size):\n",
    "        chunk = text[i:i + chunk_size]\n",
    "        if len(chunk) > 0:\n",
    "            chunks.append(chunk)\n",
    "    \n",
    "    # Summarize each chunk\n",
    "    chunk_summaries = []\n",
    "    for chunk in chunks:\n",
    "        inputs = tokenizer(chunk, return_tensors='pt', truncation=True, max_length=max_chunk_length)\n",
    "        inputs = inputs.to(device)\n",
    "        summary_ids = model.generate(inputs['input_ids'], max_length=summary_max_length, min_length=summary_min_length, length_penalty=2.0, num_beams=4, early_stopping=True)\n",
    "        summary = tokenizer.decode(summary_ids[0], skip_special_tokens=True)\n",
    "        chunk_summaries.append(summary)\n",
    "    \n",
    "    # Combine the summaries and summarize them if necessary\n",
    "    combined_summary = ' '.join(chunk_summaries)\n",
    "    if len(tokenizer.encode(combined_summary)) > max_chunk_length:\n",
    "        final_summary = summarize_text(combined_summary, max_chunk_length, summary_max_length, summary_min_length)\n",
    "    else:\n",
    "        final_summary = combined_summary\n",
    "    \n",
    "    return final_summary\n",
    "\n",
    "# Apply summarization to each group of reviews\n",
    "grouped_reviews['summary'] = grouped_reviews['reviews.text'].apply(lambda x: summarize_text(x))\n",
    "\n",
    "# Display the summaries\n",
    "for idx, row in grouped_reviews.iterrows():\n",
    "    print(f\"Primary Category: {row['primaryCategories']}, Star Rating: {row['reviews.rating']}\")\n",
    "    print(f\"Summary: {row['summary']}\\n\")\n",
    "\n",
    "# Visualize the reviews and their summaries\n",
    "for idx, row in grouped_reviews.iterrows():\n",
    "    print(f\"Primary Category: {row['primaryCategories']}, Star Rating: {row['reviews.rating']}\")\n",
    "    print(f\"Original Reviews: {row['reviews.text'][:700]}...\")  # Print only the first 700 characters of the original reviews\n",
    "    print(f\"Summary: {row['summary']}\\n\")\n"
   ]
  },
  {
   "cell_type": "code",
   "execution_count": 1,
   "id": "78b706e6-817c-462a-9796-1277c12a89cd",
   "metadata": {},
   "outputs": [
    {
     "ename": "NameError",
     "evalue": "name 'current_dir' is not defined",
     "output_type": "error",
     "traceback": [
      "\u001b[1;31m---------------------------------------------------------------------------\u001b[0m",
      "\u001b[1;31mNameError\u001b[0m                                 Traceback (most recent call last)",
      "Cell \u001b[1;32mIn[1], line 2\u001b[0m\n\u001b[0;32m      1\u001b[0m \u001b[38;5;66;03m# Save the summarized reviews to a CSV file\u001b[39;00m\n\u001b[1;32m----> 2\u001b[0m output_path \u001b[38;5;241m=\u001b[39m \u001b[43mcurrent_dir\u001b[49m \u001b[38;5;241m/\u001b[39m \u001b[38;5;124m'\u001b[39m\u001b[38;5;124msummarized_reviews.csv\u001b[39m\u001b[38;5;124m'\u001b[39m\n\u001b[0;32m      3\u001b[0m grouped_reviews\u001b[38;5;241m.\u001b[39mto_csv(output_path, index\u001b[38;5;241m=\u001b[39m\u001b[38;5;28;01mFalse\u001b[39;00m)\n\u001b[0;32m      4\u001b[0m \u001b[38;5;28mprint\u001b[39m(\u001b[38;5;124mf\u001b[39m\u001b[38;5;124m\"\u001b[39m\u001b[38;5;124mSummarized reviews saved to \u001b[39m\u001b[38;5;132;01m{\u001b[39;00moutput_path\u001b[38;5;132;01m}\u001b[39;00m\u001b[38;5;124m\"\u001b[39m)\n",
      "\u001b[1;31mNameError\u001b[0m: name 'current_dir' is not defined"
     ]
    }
   ],
   "source": [
    "# Save the summarized reviews to a CSV file\n",
    "output_path = current_dir / 'summarized_reviews.csv'\n",
    "grouped_reviews.to_csv(output_path, index=False)\n",
    "print(f\"Summarized reviews saved to {output_path}\")"
   ]
  },
  {
   "cell_type": "code",
   "execution_count": null,
   "id": "b62eaa28-1d5a-4386-8cc9-0a508992df32",
   "metadata": {},
   "outputs": [],
   "source": []
  }
 ],
 "metadata": {
  "kernelspec": {
   "display_name": "Python 3 (ipykernel)",
   "language": "python",
   "name": "python3"
  },
  "language_info": {
   "codemirror_mode": {
    "name": "ipython",
    "version": 3
   },
   "file_extension": ".py",
   "mimetype": "text/x-python",
   "name": "python",
   "nbconvert_exporter": "python",
   "pygments_lexer": "ipython3",
   "version": "3.9.19"
  }
 },
 "nbformat": 4,
 "nbformat_minor": 5
}
